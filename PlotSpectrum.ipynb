{
 "cells": [
  {
   "cell_type": "code",
   "execution_count": 2,
   "id": "helpful-budapest",
   "metadata": {},
   "outputs": [],
   "source": [
    "import pandas as pd\n",
    "import numpy as np\n",
    "import os\n",
    "import sys\n",
    "import datetime\n",
    "import time\n",
    "import math\n",
    "import netCDF4 as nc\n",
    "\n",
    "#from netCDF4 import Dataset, num2date\n",
    "import matplotlib.pyplot as plt\n",
    "\n",
    "import matplotlib.dates as mdates\n",
    "import matplotlib.colors\n",
    "import matplotlib.ticker as ticker\n",
    "\n",
    "\n",
    "RANDOM_STATE = 42\n",
    "#  32.5,  33.5\n",
    "# -97.5, -96.5"
   ]
  },
  {
   "cell_type": "code",
   "execution_count": 3,
   "id": "latter-holmes",
   "metadata": {},
   "outputs": [],
   "source": [
    "folder = \"spatial\"\n",
    "node_id = \"10004098\"\n",
    "dir_out = \"../figures/\" + folder + \"/\"\n",
    "dir_data = \"../data/\"\n",
    "\n",
    "fn_in = dir_data + \"driving_\" + node_id + \".csv\"\n"
   ]
  },
  {
   "cell_type": "code",
   "execution_count": 4,
   "id": "spare-panic",
   "metadata": {},
   "outputs": [],
   "source": [
    "df = pd.read_csv(fn_in, index_col = 'UTC')"
   ]
  },
  {
   "cell_type": "code",
   "execution_count": 4,
   "id": "supposed-scottish",
   "metadata": {},
   "outputs": [],
   "source": [
    "target = 'Illuminance'"
   ]
  },
  {
   "cell_type": "code",
   "execution_count": 5,
   "id": "ordinary-williams",
   "metadata": {},
   "outputs": [],
   "source": [
    "from wavelength_to_rgb import wavelength_to_rgb\n",
    "clim=(350,780)\n",
    "norm = plt.Normalize(*clim)\n",
    "wl = np.arange(clim[0],clim[1]+1,2)\n",
    "colorlist = list(zip(norm(wl),[wavelength_to_rgb(w) for w in wl]))\n",
    "spectralmap = matplotlib.colors.LinearSegmentedColormap.from_list(\"spectrum\", colorlist)"
   ]
  },
  {
   "cell_type": "code",
   "execution_count": 6,
   "id": "bc0ee203",
   "metadata": {},
   "outputs": [
    {
     "data": {
      "text/plain": [
       "'2020-03-29 19:32:40'"
      ]
     },
     "execution_count": 6,
     "metadata": {},
     "output_type": "execute_result"
    }
   ],
   "source": [
    "year = 2020\n",
    "month = 3\n",
    "day = 29\n",
    "hour = 19\n",
    "minute = 32\n",
    "second = 40\n",
    "lag = 6\n",
    "date_string = '%04d-%02d-%02d %02d:%02d:%02d' % (year, month, day, hour, minute, second)\n",
    "date_string\n"
   ]
  },
  {
   "cell_type": "code",
   "execution_count": 7,
   "id": "6ad15e7b",
   "metadata": {},
   "outputs": [
    {
     "ename": "NameError",
     "evalue": "name 'X_test' is not defined",
     "output_type": "error",
     "traceback": [
      "\u001b[0;31m---------------------------------------------------------------------------\u001b[0m",
      "\u001b[0;31mNameError\u001b[0m                                 Traceback (most recent call last)",
      "\u001b[0;32m<ipython-input-7-34607173c4fb>\u001b[0m in \u001b[0;36m<module>\u001b[0;34m\u001b[0m\n\u001b[1;32m      1\u001b[0m \u001b[0mwavelengths\u001b[0m \u001b[0;34m=\u001b[0m \u001b[0mnp\u001b[0m\u001b[0;34m.\u001b[0m\u001b[0marray\u001b[0m\u001b[0;34m(\u001b[0m\u001b[0mrange\u001b[0m\u001b[0;34m(\u001b[0m\u001b[0;36m360\u001b[0m\u001b[0;34m,\u001b[0m\u001b[0;36m780\u001b[0m\u001b[0;34m+\u001b[0m\u001b[0;36m1\u001b[0m\u001b[0;34m)\u001b[0m\u001b[0;34m)\u001b[0m\u001b[0;34m\u001b[0m\u001b[0;34m\u001b[0m\u001b[0m\n\u001b[1;32m      2\u001b[0m \u001b[0;34m\u001b[0m\u001b[0m\n\u001b[0;32m----> 3\u001b[0;31m \u001b[0miwant\u001b[0m \u001b[0;34m=\u001b[0m \u001b[0;34m(\u001b[0m\u001b[0mX_test\u001b[0m\u001b[0;34m.\u001b[0m\u001b[0mindex\u001b[0m\u001b[0;34m==\u001b[0m \u001b[0mdate_string\u001b[0m\u001b[0;34m)\u001b[0m\u001b[0;34m\u001b[0m\u001b[0;34m\u001b[0m\u001b[0m\n\u001b[0m\u001b[1;32m      4\u001b[0m \u001b[0mX1\u001b[0m \u001b[0;34m=\u001b[0m \u001b[0mX_test_scaled_DR_scaled\u001b[0m\u001b[0;34m[\u001b[0m\u001b[0miwant\u001b[0m\u001b[0;34m]\u001b[0m\u001b[0;34m\u001b[0m\u001b[0;34m\u001b[0m\u001b[0m\n\u001b[1;32m      5\u001b[0m \u001b[0mY1\u001b[0m \u001b[0;34m=\u001b[0m \u001b[0mY_test\u001b[0m\u001b[0;34m[\u001b[0m\u001b[0miwant\u001b[0m\u001b[0;34m]\u001b[0m\u001b[0;34m.\u001b[0m\u001b[0mvalues\u001b[0m\u001b[0;34m\u001b[0m\u001b[0;34m\u001b[0m\u001b[0m\n",
      "\u001b[0;31mNameError\u001b[0m: name 'X_test' is not defined"
     ]
    }
   ],
   "source": [
    "wavelengths = np.array(range(360,780+1))\n",
    "\n",
    "iwant = (X_test.index== date_string)\n",
    "X1 = X_test_scaled_DR_scaled[iwant]\n",
    "Y1 = Y_test[iwant].values\n",
    "Y1_pred = scaler_y.inverse_transform(regr.predict(X1))"
   ]
  },
  {
   "cell_type": "code",
   "execution_count": null,
   "id": "c5bf70a3",
   "metadata": {},
   "outputs": [],
   "source": [
    "fig, ax = plt.subplots(constrained_layout=True, figsize=(16, 8))\n",
    "plt.rcParams.update({'font.size': 25})\n",
    "spectrum = Y1[0]\n",
    "h = ax.plot(wavelengths, spectrum)\n",
    "\n",
    "plt.plot(wavelengths, spectrum)\n",
    "\n",
    "y2 = np.linspace(0, np.max(spectrum)*1.1, 100)\n",
    "\n",
    "XX,YY = np.meshgrid(wavelengths, y2)\n",
    "XX[XX<400] = 400\n",
    "extent=(np.min(wavelengths), np.max(wavelengths), np.min(y2), np.max(y2))\n",
    "\n",
    "plt.imshow(XX, clim=(350,780),  extent=extent, cmap=spectralmap, aspect='auto')\n",
    "plt.fill_between(wavelengths, spectrum, np.max(spectrum)*1.1, color='w')\n",
    "\n",
    "ax.set_title('Spectrum: %02d/%02d/%02d %02d:%02d:%02d' % (year, month, day, hour, minute, second))\n",
    "ax.set_xlabel('Wavelength / nm')\n",
    "ax.set_ylabel('Intensity')\n",
    "\n",
    "fig.savefig(dir_out+'Spectrum_%02d_%02d_%02d_%02d_%02d_%02d.png' % (year, month, day, hour, minute, second))\n",
    "#plt.close()"
   ]
  }
 ],
 "metadata": {
  "kernelspec": {
   "display_name": "Python 3",
   "language": "python",
   "name": "python3"
  },
  "language_info": {
   "codemirror_mode": {
    "name": "ipython",
    "version": 3
   },
   "file_extension": ".py",
   "mimetype": "text/x-python",
   "name": "python",
   "nbconvert_exporter": "python",
   "pygments_lexer": "ipython3",
   "version": "3.9.2"
  }
 },
 "nbformat": 4,
 "nbformat_minor": 5
}
