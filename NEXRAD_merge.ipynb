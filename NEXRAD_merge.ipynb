{
 "cells": [
  {
   "cell_type": "code",
   "execution_count": 832,
   "id": "caroline-framing",
   "metadata": {},
   "outputs": [
    {
     "name": "stderr",
     "output_type": "stream",
     "text": [
      "/Users/Strawberry/opt/miniconda3/envs/geo_env/lib/python3.9/site-packages/ipykernel/ipkernel.py:283: DeprecationWarning: `should_run_async` will not call `transform_cell` automatically in the future. Please pass the result to `transformed_cell` argument and any exception that happen during thetransform in `preprocessing_exc_tuple` in IPython 7.17 and above.\n",
      "  and should_run_async(code)\n"
     ]
    }
   ],
   "source": [
    "import numpy as np\n",
    "import pandas as pd\n",
    "import math\n",
    "# import netCDF4 as nc\n",
    "import matplotlib.pyplot as plt\n",
    "from mpl_toolkits.axes_grid1 import make_axes_locatable\n",
    "\n",
    "import pyart\n",
    "\n",
    "import astropy.coordinates as coord\n",
    "from astropy.time import Time\n",
    "import astropy.units as u\n",
    "\n",
    "# from pysolar.solar import get_altitude, get_azimuth, constants\n",
    "# from pysolar.solar import get_azimuth, get_sun_earth_distance, get_projected_radial_distance\n",
    "# from pysolar import solartime as stime\n",
    "# import pytz\n",
    "\n",
    "import cartopy.crs as ccrs\n",
    "\n",
    "import time\n",
    "import datetime\n",
    "\n",
    "#  32.5,  33.5\n",
    "# -97.5, -96.5"
   ]
  },
  {
   "cell_type": "code",
   "execution_count": 989,
   "id": "informed-maryland",
   "metadata": {},
   "outputs": [
    {
     "name": "stderr",
     "output_type": "stream",
     "text": [
      "/Users/Strawberry/opt/miniconda3/envs/geo_env/lib/python3.9/site-packages/ipykernel/ipkernel.py:283: DeprecationWarning: `should_run_async` will not call `transform_cell` automatically in the future. Please pass the result to `transformed_cell` argument and any exception that happen during thetransform in `preprocessing_exc_tuple` in IPython 7.17 and above.\n",
      "  and should_run_async(code)\n"
     ]
    },
    {
     "data": {
      "text/html": [
       "<div>\n",
       "<style scoped>\n",
       "    .dataframe tbody tr th:only-of-type {\n",
       "        vertical-align: middle;\n",
       "    }\n",
       "\n",
       "    .dataframe tbody tr th {\n",
       "        vertical-align: top;\n",
       "    }\n",
       "\n",
       "    .dataframe thead th {\n",
       "        text-align: right;\n",
       "    }\n",
       "</style>\n",
       "<table border=\"1\" class=\"dataframe\">\n",
       "  <thead>\n",
       "    <tr style=\"text-align: right;\">\n",
       "      <th></th>\n",
       "      <th>Illuminance</th>\n",
       "      <th>360nm</th>\n",
       "      <th>361nm</th>\n",
       "      <th>362nm</th>\n",
       "      <th>363nm</th>\n",
       "      <th>364nm</th>\n",
       "      <th>365nm</th>\n",
       "      <th>366nm</th>\n",
       "      <th>367nm</th>\n",
       "      <th>368nm</th>\n",
       "      <th>...</th>\n",
       "      <th>777nm</th>\n",
       "      <th>778nm</th>\n",
       "      <th>779nm</th>\n",
       "      <th>780nm</th>\n",
       "      <th>latitude</th>\n",
       "      <th>longitude</th>\n",
       "      <th>altitude</th>\n",
       "      <th>Zenith</th>\n",
       "      <th>Azimuth</th>\n",
       "      <th>Sun Distance</th>\n",
       "    </tr>\n",
       "    <tr>\n",
       "      <th>UTC</th>\n",
       "      <th></th>\n",
       "      <th></th>\n",
       "      <th></th>\n",
       "      <th></th>\n",
       "      <th></th>\n",
       "      <th></th>\n",
       "      <th></th>\n",
       "      <th></th>\n",
       "      <th></th>\n",
       "      <th></th>\n",
       "      <th></th>\n",
       "      <th></th>\n",
       "      <th></th>\n",
       "      <th></th>\n",
       "      <th></th>\n",
       "      <th></th>\n",
       "      <th></th>\n",
       "      <th></th>\n",
       "      <th></th>\n",
       "      <th></th>\n",
       "      <th></th>\n",
       "    </tr>\n",
       "  </thead>\n",
       "  <tbody>\n",
       "    <tr>\n",
       "      <th>2020-01-08 16:43:50</th>\n",
       "      <td>2345.220551</td>\n",
       "      <td>0.032529</td>\n",
       "      <td>0.032651</td>\n",
       "      <td>0.033183</td>\n",
       "      <td>0.033997</td>\n",
       "      <td>0.034946</td>\n",
       "      <td>0.035627</td>\n",
       "      <td>0.036239</td>\n",
       "      <td>0.036761</td>\n",
       "      <td>0.037158</td>\n",
       "      <td>...</td>\n",
       "      <td>0.029645</td>\n",
       "      <td>0.029761</td>\n",
       "      <td>0.029830</td>\n",
       "      <td>0.029849</td>\n",
       "      <td>32.992279</td>\n",
       "      <td>-96.756782</td>\n",
       "      <td>226.74</td>\n",
       "      <td>61.131565</td>\n",
       "      <td>150.852597</td>\n",
       "      <td>1.470931e+11</td>\n",
       "    </tr>\n",
       "    <tr>\n",
       "      <th>2020-01-08 16:44:00</th>\n",
       "      <td>2385.540894</td>\n",
       "      <td>0.033112</td>\n",
       "      <td>0.033226</td>\n",
       "      <td>0.033758</td>\n",
       "      <td>0.034580</td>\n",
       "      <td>0.035541</td>\n",
       "      <td>0.036231</td>\n",
       "      <td>0.036851</td>\n",
       "      <td>0.037380</td>\n",
       "      <td>0.037782</td>\n",
       "      <td>...</td>\n",
       "      <td>0.036332</td>\n",
       "      <td>0.036510</td>\n",
       "      <td>0.036637</td>\n",
       "      <td>0.036706</td>\n",
       "      <td>32.991883</td>\n",
       "      <td>-96.756719</td>\n",
       "      <td>232.32</td>\n",
       "      <td>61.114173</td>\n",
       "      <td>150.892058</td>\n",
       "      <td>1.470931e+11</td>\n",
       "    </tr>\n",
       "    <tr>\n",
       "      <th>2020-01-08 16:46:40</th>\n",
       "      <td>3521.045288</td>\n",
       "      <td>0.036604</td>\n",
       "      <td>0.036802</td>\n",
       "      <td>0.037441</td>\n",
       "      <td>0.038386</td>\n",
       "      <td>0.039475</td>\n",
       "      <td>0.040252</td>\n",
       "      <td>0.040949</td>\n",
       "      <td>0.041550</td>\n",
       "      <td>0.042018</td>\n",
       "      <td>...</td>\n",
       "      <td>0.049129</td>\n",
       "      <td>0.049250</td>\n",
       "      <td>0.049294</td>\n",
       "      <td>0.049267</td>\n",
       "      <td>32.992381</td>\n",
       "      <td>-96.756637</td>\n",
       "      <td>225.08</td>\n",
       "      <td>60.845127</td>\n",
       "      <td>151.526867</td>\n",
       "      <td>1.470930e+11</td>\n",
       "    </tr>\n",
       "    <tr>\n",
       "      <th>2020-01-08 16:46:50</th>\n",
       "      <td>4220.051209</td>\n",
       "      <td>0.044110</td>\n",
       "      <td>0.044308</td>\n",
       "      <td>0.045068</td>\n",
       "      <td>0.046215</td>\n",
       "      <td>0.047553</td>\n",
       "      <td>0.048541</td>\n",
       "      <td>0.049440</td>\n",
       "      <td>0.050220</td>\n",
       "      <td>0.050827</td>\n",
       "      <td>...</td>\n",
       "      <td>0.048394</td>\n",
       "      <td>0.048633</td>\n",
       "      <td>0.048803</td>\n",
       "      <td>0.048892</td>\n",
       "      <td>32.992810</td>\n",
       "      <td>-96.756288</td>\n",
       "      <td>223.16</td>\n",
       "      <td>60.828704</td>\n",
       "      <td>151.567132</td>\n",
       "      <td>1.470930e+11</td>\n",
       "    </tr>\n",
       "    <tr>\n",
       "      <th>2020-01-08 16:47:00</th>\n",
       "      <td>4105.486389</td>\n",
       "      <td>0.043972</td>\n",
       "      <td>0.044196</td>\n",
       "      <td>0.044981</td>\n",
       "      <td>0.046150</td>\n",
       "      <td>0.047503</td>\n",
       "      <td>0.048477</td>\n",
       "      <td>0.049356</td>\n",
       "      <td>0.050115</td>\n",
       "      <td>0.050708</td>\n",
       "      <td>...</td>\n",
       "      <td>0.047814</td>\n",
       "      <td>0.048059</td>\n",
       "      <td>0.048236</td>\n",
       "      <td>0.048330</td>\n",
       "      <td>32.994113</td>\n",
       "      <td>-96.756270</td>\n",
       "      <td>218.74</td>\n",
       "      <td>60.813205</td>\n",
       "      <td>151.607331</td>\n",
       "      <td>1.470930e+11</td>\n",
       "    </tr>\n",
       "  </tbody>\n",
       "</table>\n",
       "<p>5 rows × 428 columns</p>\n",
       "</div>"
      ],
      "text/plain": [
       "                     Illuminance     360nm     361nm     362nm     363nm  \\\n",
       "UTC                                                                        \n",
       "2020-01-08 16:43:50  2345.220551  0.032529  0.032651  0.033183  0.033997   \n",
       "2020-01-08 16:44:00  2385.540894  0.033112  0.033226  0.033758  0.034580   \n",
       "2020-01-08 16:46:40  3521.045288  0.036604  0.036802  0.037441  0.038386   \n",
       "2020-01-08 16:46:50  4220.051209  0.044110  0.044308  0.045068  0.046215   \n",
       "2020-01-08 16:47:00  4105.486389  0.043972  0.044196  0.044981  0.046150   \n",
       "\n",
       "                        364nm     365nm     366nm     367nm     368nm  ...  \\\n",
       "UTC                                                                    ...   \n",
       "2020-01-08 16:43:50  0.034946  0.035627  0.036239  0.036761  0.037158  ...   \n",
       "2020-01-08 16:44:00  0.035541  0.036231  0.036851  0.037380  0.037782  ...   \n",
       "2020-01-08 16:46:40  0.039475  0.040252  0.040949  0.041550  0.042018  ...   \n",
       "2020-01-08 16:46:50  0.047553  0.048541  0.049440  0.050220  0.050827  ...   \n",
       "2020-01-08 16:47:00  0.047503  0.048477  0.049356  0.050115  0.050708  ...   \n",
       "\n",
       "                        777nm     778nm     779nm     780nm   latitude  \\\n",
       "UTC                                                                      \n",
       "2020-01-08 16:43:50  0.029645  0.029761  0.029830  0.029849  32.992279   \n",
       "2020-01-08 16:44:00  0.036332  0.036510  0.036637  0.036706  32.991883   \n",
       "2020-01-08 16:46:40  0.049129  0.049250  0.049294  0.049267  32.992381   \n",
       "2020-01-08 16:46:50  0.048394  0.048633  0.048803  0.048892  32.992810   \n",
       "2020-01-08 16:47:00  0.047814  0.048059  0.048236  0.048330  32.994113   \n",
       "\n",
       "                     longitude  altitude     Zenith     Azimuth  Sun Distance  \n",
       "UTC                                                                            \n",
       "2020-01-08 16:43:50 -96.756782    226.74  61.131565  150.852597  1.470931e+11  \n",
       "2020-01-08 16:44:00 -96.756719    232.32  61.114173  150.892058  1.470931e+11  \n",
       "2020-01-08 16:46:40 -96.756637    225.08  60.845127  151.526867  1.470930e+11  \n",
       "2020-01-08 16:46:50 -96.756288    223.16  60.828704  151.567132  1.470930e+11  \n",
       "2020-01-08 16:47:00 -96.756270    218.74  60.813205  151.607331  1.470930e+11  \n",
       "\n",
       "[5 rows x 428 columns]"
      ]
     },
     "execution_count": 989,
     "metadata": {},
     "output_type": "execute_result"
    }
   ],
   "source": [
    "folder = \"spatial\"\n",
    "node_id = \"10004098\"\n",
    "dir_NEXRAD = '/Volumes/Backup Plus/NEXRAD/data/'\n",
    "dir_data = \"../data/\"\n",
    "dir_out = \"../figures/\" + folder + \"/\"\n",
    "\n",
    "fn_in = dir_data + \"driving_\" + node_id + \".csv\"\n",
    "df = pd.read_csv(fn_in, parse_dates=True, index_col = 'UTC')\n",
    "df.head()"
   ]
  },
  {
   "cell_type": "code",
   "execution_count": 970,
   "id": "unusual-costume",
   "metadata": {},
   "outputs": [
    {
     "name": "stderr",
     "output_type": "stream",
     "text": [
      "/Users/Strawberry/opt/miniconda3/envs/geo_env/lib/python3.9/site-packages/ipykernel/ipkernel.py:283: DeprecationWarning: `should_run_async` will not call `transform_cell` automatically in the future. Please pass the result to `transformed_cell` argument and any exception that happen during thetransform in `preprocessing_exc_tuple` in IPython 7.17 and above.\n",
      "  and should_run_async(code)\n"
     ]
    }
   ],
   "source": [
    "dates = sorted(set(df.index.date))\n",
    "date = dates[0]\n",
    "df_date = df[df.index.date == date]"
   ]
  },
  {
   "cell_type": "code",
   "execution_count": 1004,
   "id": "handed-knife",
   "metadata": {},
   "outputs": [
    {
     "name": "stderr",
     "output_type": "stream",
     "text": [
      "/Users/Strawberry/opt/miniconda3/envs/geo_env/lib/python3.9/site-packages/ipykernel/ipkernel.py:283: DeprecationWarning: `should_run_async` will not call `transform_cell` automatically in the future. Please pass the result to `transformed_cell` argument and any exception that happen during thetransform in `preprocessing_exc_tuple` in IPython 7.17 and above.\n",
      "  and should_run_async(code)\n"
     ]
    },
    {
     "data": {
      "text/plain": [
       "datetime.timedelta(days=1)"
      ]
     },
     "execution_count": 1004,
     "metadata": {},
     "output_type": "execute_result"
    }
   ],
   "source": [
    "datetime.timedelta(days = 1)"
   ]
  },
  {
   "cell_type": "code",
   "execution_count": 1007,
   "id": "sitting-lying",
   "metadata": {},
   "outputs": [
    {
     "name": "stderr",
     "output_type": "stream",
     "text": [
      "/Users/Strawberry/opt/miniconda3/envs/geo_env/lib/python3.9/site-packages/ipykernel/ipkernel.py:283: DeprecationWarning: `should_run_async` will not call `transform_cell` automatically in the future. Please pass the result to `transformed_cell` argument and any exception that happen during thetransform in `preprocessing_exc_tuple` in IPython 7.17 and above.\n",
      "  and should_run_async(code)\n"
     ]
    },
    {
     "data": {
      "text/plain": [
       "datetime.date(2020, 4, 19)"
      ]
     },
     "execution_count": 1007,
     "metadata": {},
     "output_type": "execute_result"
    }
   ],
   "source": []
  },
  {
   "cell_type": "code",
   "execution_count": 1044,
   "id": "pharmaceutical-payday",
   "metadata": {},
   "outputs": [
    {
     "name": "stderr",
     "output_type": "stream",
     "text": [
      "/Users/Strawberry/opt/miniconda3/envs/geo_env/lib/python3.9/site-packages/ipykernel/ipkernel.py:283: DeprecationWarning: `should_run_async` will not call `transform_cell` automatically in the future. Please pass the result to `transformed_cell` argument and any exception that happen during thetransform in `preprocessing_exc_tuple` in IPython 7.17 and above.\n",
      "  and should_run_async(code)\n"
     ]
    }
   ],
   "source": [
    "def get_filenames_by_date(date):\n",
    "    date_str = str(date)\n",
    "    dir_date = dir_NEXRAD + date_str + '/'\n",
    "    return sorted([dir_date + fn for fn in os.listdir(dir_date) if (fn[0]!='.') & (fn[-1]!='M')])"
   ]
  },
  {
   "cell_type": "code",
   "execution_count": 1052,
   "id": "legislative-consumer",
   "metadata": {},
   "outputs": [
    {
     "name": "stderr",
     "output_type": "stream",
     "text": [
      "/Users/Strawberry/opt/miniconda3/envs/geo_env/lib/python3.9/site-packages/ipykernel/ipkernel.py:283: DeprecationWarning: `should_run_async` will not call `transform_cell` automatically in the future. Please pass the result to `transformed_cell` argument and any exception that happen during thetransform in `preprocessing_exc_tuple` in IPython 7.17 and above.\n",
      "  and should_run_async(code)\n"
     ]
    },
    {
     "name": "stdout",
     "output_type": "stream",
     "text": [
      "2020-01-08\n"
     ]
    }
   ],
   "source": [
    "variables = ['cross_correlation_ratio',\n",
    "             'differential_phase',\n",
    "             'differential_reflectivity',\n",
    "             'reflectivity',\n",
    "             'spectrum_width',\n",
    "             'velocity' ]\n",
    "altitude_radar = 236.0\n",
    "\n",
    "dates = sorted(set(df.index.date))\n",
    "for date in dates:\n",
    "    print(date)\n",
    "    df_date = df[df.index.date == date]\n",
    "    \n",
    "    date_str = str(date)\n",
    "    dir_date = dir_NEXRAD + date_str + '/'\n",
    "    \n",
    "    # initialize fn_prev to the last file name of yesterday's folder\n",
    "    fn_prev = get_filenames_by_date(date - datetime.timedelta(days = 1))[-1]\n",
    "    time_prev = datetime.datetime.strptime(fn_prev[-19:-4], '%Y%m%d_%H%M%S')\n",
    "    \n",
    "    fns = get_filenames_by_date(date)\n",
    "    # merge NEXRAD data into df_date\n",
    "    i = 0\n",
    "    while i < len(fns):\n",
    "        fn_curr = fns[i]\n",
    "        time_curr = datetime.datetime.strptime(fn_curr[-19:-4], '%Y%m%d_%H%M%S')\n",
    "        df_i = df_date[(df_date.index >= time_prev) & (df_date.index <= time_curr)]\n",
    "        if len(df_i) > 0:\n",
    "            # read NEXRAD data of time_prev and time_curr\n",
    "            radar_prev = pyart.io.read(fn_prev)\n",
    "            radar_curr = pyart.io.read(fn_curr)\n",
    "            \n",
    "            # merge NEXRAD data between time_prev and time_curr\n",
    "            for time in df_i.index:\n",
    "                longitude = df_i[time]['longitude']\n",
    "                latitude = df_i[time]['latitude']\n",
    "                altitude = df_i[time]['altitude']\n",
    "                \n",
    "                \n",
    "                x_curr, y_curr = pyart.core.geographic_to_cartesian(radar.longitude['data'][0],\n",
    "                                                                    radar.latitude['data'][0],\n",
    "                                                                    grid.get_projparams())\n",
    "                z_curr = 10000*0, 10000*0, 1320*0\n",
    "                delta_x, delta_y, delta_z = 5000, 5000, 1000\n",
    "\n",
    "                grid = pyart.map.grid_from_radars(radar, grid_shape=(11, 3, 3),\\\n",
    "                                                  grid_limits=((z_curr,z_curr+10*delta_z), (x_curr - delta_x, x_curr + delta_x), (y_curr - delta_y, y_curr + delta_y)))\n",
    "\n",
    "                \n",
    "                \n",
    "            break                          \n",
    "        fn_prev = fn_curr\n",
    "        time_prev = time_curr\n",
    "        i += 1\n",
    "        \n",
    "    \n",
    "    break\n",
    "    "
   ]
  },
  {
   "cell_type": "code",
   "execution_count": 1059,
   "id": "northern-explanation",
   "metadata": {},
   "outputs": [
    {
     "name": "stderr",
     "output_type": "stream",
     "text": [
      "/Users/Strawberry/opt/miniconda3/envs/geo_env/lib/python3.9/site-packages/ipykernel/ipkernel.py:283: DeprecationWarning: `should_run_async` will not call `transform_cell` automatically in the future. Please pass the result to `transformed_cell` argument and any exception that happen during thetransform in `preprocessing_exc_tuple` in IPython 7.17 and above.\n",
      "  and should_run_async(code)\n"
     ]
    },
    {
     "data": {
      "text/plain": [
       "<module 'time' (built-in)>"
      ]
     },
     "execution_count": 1059,
     "metadata": {},
     "output_type": "execute_result"
    }
   ],
   "source": [
    "radar.get"
   ]
  },
  {
   "cell_type": "code",
   "execution_count": null,
   "id": "recognized-perfume",
   "metadata": {},
   "outputs": [],
   "source": [
    "# dbz = 10 log_10^(Z/Z_0)\n",
    "# we should do Interpolation on Z/Z_0\n"
   ]
  },
  {
   "cell_type": "code",
   "execution_count": 837,
   "id": "rocky-essay",
   "metadata": {},
   "outputs": [
    {
     "name": "stderr",
     "output_type": "stream",
     "text": [
      "/Users/Strawberry/opt/miniconda3/envs/geo_env/lib/python3.9/site-packages/ipykernel/ipkernel.py:283: DeprecationWarning: `should_run_async` will not call `transform_cell` automatically in the future. Please pass the result to `transformed_cell` argument and any exception that happen during thetransform in `preprocessing_exc_tuple` in IPython 7.17 and above.\n",
      "  and should_run_async(code)\n"
     ]
    }
   ],
   "source": [
    "filename = '/Volumes/Backup Plus/NEXRAD/data/2020-02-10/2020_02_10_KFWS_KFWS20200210_140005_V06'\n",
    "radar = pyart.io.read(filename)\n",
    "altitude_radar = 236.0"
   ]
  },
  {
   "cell_type": "code",
   "execution_count": 932,
   "id": "violent-manchester",
   "metadata": {},
   "outputs": [
    {
     "name": "stderr",
     "output_type": "stream",
     "text": [
      "/Users/Strawberry/opt/miniconda3/envs/geo_env/lib/python3.9/site-packages/ipykernel/ipkernel.py:283: DeprecationWarning: `should_run_async` will not call `transform_cell` automatically in the future. Please pass the result to `transformed_cell` argument and any exception that happen during thetransform in `preprocessing_exc_tuple` in IPython 7.17 and above.\n",
      "  and should_run_async(code)\n"
     ]
    },
    {
     "data": {
      "text/plain": [
       "{'units': 'seconds since 2020-02-10T14:00:05Z',\n",
       " 'standard_name': 'time',\n",
       " 'long_name': 'time_in_seconds_since_volume_start',\n",
       " 'calendar': 'gregorian',\n",
       " 'comment': 'Coordinate variable for time. Time at the center of each ray, in fractional seconds since the global variable time_coverage_start',\n",
       " 'data': array([  0.363,   0.407,   0.453, ..., 254.133, 254.182, 254.232])}"
      ]
     },
     "execution_count": 932,
     "metadata": {},
     "output_type": "execute_result"
    }
   ],
   "source": [
    "radar.time"
   ]
  },
  {
   "cell_type": "code",
   "execution_count": 909,
   "id": "living-package",
   "metadata": {},
   "outputs": [
    {
     "name": "stderr",
     "output_type": "stream",
     "text": [
      "/Users/Strawberry/opt/miniconda3/envs/geo_env/lib/python3.9/site-packages/ipykernel/ipkernel.py:283: DeprecationWarning: `should_run_async` will not call `transform_cell` automatically in the future. Please pass the result to `transformed_cell` argument and any exception that happen during thetransform in `preprocessing_exc_tuple` in IPython 7.17 and above.\n",
      "  and should_run_async(code)\n"
     ]
    },
    {
     "data": {
      "text/plain": [
       "13.396385"
      ]
     },
     "execution_count": 909,
     "metadata": {},
     "output_type": "execute_result"
    }
   ],
   "source": [
    "grid.fields['reflectivity']['data'].max()"
   ]
  },
  {
   "cell_type": "code",
   "execution_count": 1057,
   "id": "nuclear-eagle",
   "metadata": {},
   "outputs": [
    {
     "name": "stderr",
     "output_type": "stream",
     "text": [
      "/Users/Strawberry/opt/miniconda3/envs/geo_env/lib/python3.9/site-packages/ipykernel/ipkernel.py:283: DeprecationWarning: `should_run_async` will not call `transform_cell` automatically in the future. Please pass the result to `transformed_cell` argument and any exception that happen during thetransform in `preprocessing_exc_tuple` in IPython 7.17 and above.\n",
      "  and should_run_async(code)\n",
      "/Users/Strawberry/opt/miniconda3/envs/geo_env/lib/python3.9/site-packages/pyart/map/gates_to_grid.py:163: DeprecationWarning: Barnes weighting function is deprecated. Please use Barnes 2 to be consistent with Pauley and Wu 1990.\n",
      "  warnings.warn(\"Barnes weighting function is deprecated.\"\n"
     ]
    }
   ],
   "source": [
    "x_curr, y_curr, z_curr = 10000*0, 10000*0, 1320*0\n",
    "delta_x, delta_y, delta_z = 5000, 5000, 1000\n",
    "\n",
    "grid = pyart.map.grid_from_radars(radar, grid_shape=(11, 3, 3),\\\n",
    "                                  grid_limits=((z_curr,z_curr+10*delta_z), (x_curr - delta_x, x_curr + delta_x), (y_curr - delta_y, y_curr + delta_y)))\n"
   ]
  },
  {
   "cell_type": "code",
   "execution_count": 857,
   "id": "surprised-facing",
   "metadata": {},
   "outputs": [
    {
     "name": "stderr",
     "output_type": "stream",
     "text": [
      "/Users/Strawberry/opt/miniconda3/envs/geo_env/lib/python3.9/site-packages/ipykernel/ipkernel.py:283: DeprecationWarning: `should_run_async` will not call `transform_cell` automatically in the future. Please pass the result to `transformed_cell` argument and any exception that happen during thetransform in `preprocessing_exc_tuple` in IPython 7.17 and above.\n",
      "  and should_run_async(code)\n"
     ]
    }
   ],
   "source": [
    "def log10_mean(dbz1, dbz2, w1=0.5, w2=0.5):\n",
    "    return 10*np.log10(w1*10**(dbz1/10) + w2*10**(dbz2/10))"
   ]
  },
  {
   "cell_type": "code",
   "execution_count": 1061,
   "id": "alpha-medium",
   "metadata": {},
   "outputs": [
    {
     "name": "stderr",
     "output_type": "stream",
     "text": [
      "/Users/Strawberry/opt/miniconda3/envs/geo_env/lib/python3.9/site-packages/ipykernel/ipkernel.py:283: DeprecationWarning: `should_run_async` will not call `transform_cell` automatically in the future. Please pass the result to `transformed_cell` argument and any exception that happen during thetransform in `preprocessing_exc_tuple` in IPython 7.17 and above.\n",
      "  and should_run_async(code)\n"
     ]
    },
    {
     "data": {
      "text/plain": [
       "(array([0.]), array([0.]))"
      ]
     },
     "execution_count": 1061,
     "metadata": {},
     "output_type": "execute_result"
    }
   ],
   "source": [
    "pyart.core.geographic_to_cartesian(radar.longitude['data'][0],\n",
    "                                   radar.latitude['data'][0],\n",
    "                                   grid.get_projparams())"
   ]
  },
  {
   "cell_type": "code",
   "execution_count": null,
   "id": "minimal-persian",
   "metadata": {},
   "outputs": [],
   "source": []
  },
  {
   "cell_type": "code",
   "execution_count": 926,
   "id": "norman-uncle",
   "metadata": {},
   "outputs": [
    {
     "name": "stderr",
     "output_type": "stream",
     "text": [
      "/Users/Strawberry/opt/miniconda3/envs/geo_env/lib/python3.9/site-packages/ipykernel/ipkernel.py:283: DeprecationWarning: `should_run_async` will not call `transform_cell` automatically in the future. Please pass the result to `transformed_cell` argument and any exception that happen during thetransform in `preprocessing_exc_tuple` in IPython 7.17 and above.\n",
      "  and should_run_async(code)\n"
     ]
    },
    {
     "data": {
      "image/png": "[encoded data removed]",
      "text/plain": [
       "<Figure size 720x720 with 2 Axes>"
      ]
     },
     "metadata": {
      "needs_background": "light"
     },
     "output_type": "display_data"
    }
   ],
   "source": [
    "plt.rcParams.update({'font.size': 15})\n",
    "fig = plt.figure(figsize=[10, 10])\n",
    "display = pyart.graph.GridMapDisplay(grid)\n",
    "display.plot_grid('ROI', level=1)"
   ]
  },
  {
   "cell_type": "code",
   "execution_count": null,
   "id": "color-perception",
   "metadata": {},
   "outputs": [],
   "source": []
  },
  {
   "cell_type": "code",
   "execution_count": null,
   "id": "sacred-catalog",
   "metadata": {},
   "outputs": [],
   "source": []
  }
 ],
 "metadata": {
  "kernelspec": {
   "display_name": "Python 3",
   "language": "python",
   "name": "python3"
  },
  "language_info": {
   "codemirror_mode": {
    "name": "ipython",
    "version": 3
   },
   "file_extension": ".py",
   "mimetype": "text/x-python",
   "name": "python",
   "nbconvert_exporter": "python",
   "pygments_lexer": "ipython3",
   "version": "3.9.2"
  }
 },
 "nbformat": 4,
 "nbformat_minor": 5
}
