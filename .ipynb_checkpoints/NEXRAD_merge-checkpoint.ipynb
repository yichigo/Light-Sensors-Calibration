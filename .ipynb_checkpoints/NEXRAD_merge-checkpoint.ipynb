{
 "cells": [
  {
   "cell_type": "code",
   "execution_count": 693,
   "id": "tamil-neighborhood",
   "metadata": {},
   "outputs": [
    {
     "name": "stderr",
     "output_type": "stream",
     "text": [
      "/Users/Strawberry/opt/miniconda3/envs/geo_env/lib/python3.9/site-packages/ipykernel/ipkernel.py:283: DeprecationWarning: `should_run_async` will not call `transform_cell` automatically in the future. Please pass the result to `transformed_cell` argument and any exception that happen during thetransform in `preprocessing_exc_tuple` in IPython 7.17 and above.\n",
      "  and should_run_async(code)\n"
     ]
    }
   ],
   "source": [
    "import numpy as np\n",
    "import pandas as pd\n",
    "import math\n",
    "# import netCDF4 as nc\n",
    "import matplotlib.pyplot as plt\n",
    "from mpl_toolkits.axes_grid1 import make_axes_locatable\n",
    "\n",
    "import pyart\n",
    "\n",
    "import astropy.coordinates as coord\n",
    "from astropy.time import Time\n",
    "import astropy.units as u\n",
    "\n",
    "# from pysolar.solar import get_altitude, get_azimuth, constants\n",
    "# from pysolar.solar import get_azimuth, get_sun_earth_distance, get_projected_radial_distance\n",
    "# from pysolar import solartime as stime\n",
    "# import pytz\n",
    "\n",
    "import cartopy.crs as ccrs\n",
    "\n",
    "import time\n",
    "import datetime\n",
    "\n",
    "#  32.5,  33.5\n",
    "# -97.5, -96.5"
   ]
  },
  {
   "cell_type": "code",
   "execution_count": 704,
   "id": "introductory-isaac",
   "metadata": {},
   "outputs": [
    {
     "name": "stderr",
     "output_type": "stream",
     "text": [
      "/Users/Strawberry/opt/miniconda3/envs/geo_env/lib/python3.9/site-packages/ipykernel/ipkernel.py:283: DeprecationWarning: `should_run_async` will not call `transform_cell` automatically in the future. Please pass the result to `transformed_cell` argument and any exception that happen during thetransform in `preprocessing_exc_tuple` in IPython 7.17 and above.\n",
      "  and should_run_async(code)\n"
     ]
    }
   ],
   "source": [
    "folder = \"spatial\"\n",
    "node_id = \"10004098\"\n",
    "dir_out = \"../figures/\" + folder + \"/\"\n",
    "dir_data = \"../data/\"\n",
    "\n",
    "fn_in = dir_data + \"driving_\" + node_id + \".csv\"\n",
    "df = pd.read_csv(fn_in)"
   ]
  },
  {
   "cell_type": "code",
   "execution_count": 492,
   "id": "decent-solomon",
   "metadata": {},
   "outputs": [
    {
     "name": "stderr",
     "output_type": "stream",
     "text": [
      "/Users/Strawberry/opt/miniconda3/envs/geo_env/lib/python3.9/site-packages/ipykernel/ipkernel.py:283: DeprecationWarning: `should_run_async` will not call `transform_cell` automatically in the future. Please pass the result to `transformed_cell` argument and any exception that happen during thetransform in `preprocessing_exc_tuple` in IPython 7.17 and above.\n",
      "  and should_run_async(code)\n"
     ]
    }
   ],
   "source": [
    "minolta_node_id = '10004098'\n",
    "gps_node_id = '001e0610c2e9'\n",
    "dir_minolta = '../Minolta/'\n",
    "dir_gps = dir_minolta\n",
    "\n",
    "dir_data = '../data/'\n",
    "dir_out = '../figures/'"
   ]
  },
  {
   "cell_type": "code",
   "execution_count": 2,
   "id": "classical-district",
   "metadata": {},
   "outputs": [
    {
     "name": "stderr",
     "output_type": "stream",
     "text": [
      "/Users/Strawberry/opt/miniconda3/envs/geo_env/lib/python3.9/site-packages/ipykernel/ipkernel.py:283: DeprecationWarning: `should_run_async` will not call `transform_cell` automatically in the future. Please pass the result to `transformed_cell` argument and any exception that happen during thetransform in `preprocessing_exc_tuple` in IPython 7.17 and above.\n",
      "  and should_run_async(code)\n"
     ]
    }
   ],
   "source": [
    "# read data\n",
    "folder = \"spatial\"\n",
    "node_id = \"10004098\"\n",
    "dir_out = \"../figures/\" + folder + \"/\"\n",
    "dir_data = \"../data/\"\n",
    "\n",
    "fn_in = dir_data + \"driving_\" + node_id + \".csv\"\n",
    "df = pd.read_csv(fn_in, index_col = 'UTC')"
   ]
  },
  {
   "cell_type": "code",
   "execution_count": null,
   "id": "wicked-lambda",
   "metadata": {},
   "outputs": [],
   "source": [
    "loc = coord.EarthLocation(lon=0 * u.deg,\n",
    "                          lat=32 * u.deg)\n",
    "now = Time('2021-04-07 12:00:00', format='iso', scale='utc')#Time.now()\n",
    "\n",
    "altaz = coord.AltAz(location=loc, obstime=now)\n",
    "sun = coord.get_sun(now)\n",
    "\n",
    "temp = sun.transform_to(altaz)\n",
    "temp.az.degree, temp.zen.degree, temp.distance.meter"
   ]
  },
  {
   "cell_type": "code",
   "execution_count": 4,
   "id": "emotional-chess",
   "metadata": {},
   "outputs": [
    {
     "name": "stderr",
     "output_type": "stream",
     "text": [
      "/Users/Strawberry/opt/miniconda3/envs/geo_env/lib/python3.9/site-packages/ipykernel/ipkernel.py:283: DeprecationWarning: `should_run_async` will not call `transform_cell` automatically in the future. Please pass the result to `transformed_cell` argument and any exception that happen during thetransform in `preprocessing_exc_tuple` in IPython 7.17 and above.\n",
      "  and should_run_async(code)\n"
     ]
    },
    {
     "data": {
      "text/plain": [
       "27618"
      ]
     },
     "execution_count": 4,
     "metadata": {},
     "output_type": "execute_result"
    }
   ],
   "source": []
  },
  {
   "cell_type": "code",
   "execution_count": null,
   "id": "comic-officer",
   "metadata": {},
   "outputs": [],
   "source": []
  }
 ],
 "metadata": {
  "kernelspec": {
   "display_name": "Python 3",
   "language": "python",
   "name": "python3"
  },
  "language_info": {
   "codemirror_mode": {
    "name": "ipython",
    "version": 3
   },
   "file_extension": ".py",
   "mimetype": "text/x-python",
   "name": "python",
   "nbconvert_exporter": "python",
   "pygments_lexer": "ipython3",
   "version": "3.9.2"
  }
 },
 "nbformat": 4,
 "nbformat_minor": 5
}
