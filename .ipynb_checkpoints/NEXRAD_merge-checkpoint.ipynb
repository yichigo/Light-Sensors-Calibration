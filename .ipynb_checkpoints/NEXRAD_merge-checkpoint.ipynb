{
 "cells": [
  {
   "cell_type": "code",
   "execution_count": 234,
   "id": "desperate-destruction",
   "metadata": {},
   "outputs": [
    {
     "name": "stderr",
     "output_type": "stream",
     "text": [
      "/Users/Strawberry/opt/miniconda3/envs/geo_env/lib/python3.9/site-packages/ipykernel/ipkernel.py:283: DeprecationWarning: `should_run_async` will not call `transform_cell` automatically in the future. Please pass the result to `transformed_cell` argument and any exception that happen during thetransform in `preprocessing_exc_tuple` in IPython 7.17 and above.\n",
      "  and should_run_async(code)\n"
     ]
    }
   ],
   "source": [
    "import numpy as np\n",
    "import pandas as pd\n",
    "import math\n",
    "# import netCDF4 as nc\n",
    "import matplotlib.pyplot as plt\n",
    "from mpl_toolkits.axes_grid1 import make_axes_locatable\n",
    "\n",
    "import pyart\n",
    "\n",
    "import astropy.coordinates as coord\n",
    "from astropy.time import Time\n",
    "import astropy.units as u\n",
    "\n",
    "from pysolar.solar import get_altitude, get_azimuth, constants\n",
    "from pysolar.solar import get_azimuth, get_sun_earth_distance, get_projected_radial_distance\n",
    "from pysolar import solartime as stime\n",
    "import pytz\n",
    "\n",
    "import cartopy.crs as ccrs\n",
    "from datetime import datetime, timedelta\n",
    "import time\n",
    "\n",
    "import swifter\n",
    "\n",
    "\n",
    "#  32.5,  33.5\n",
    "# -97.5, -96.5"
   ]
  },
  {
   "cell_type": "code",
   "execution_count": 193,
   "id": "faced-clear",
   "metadata": {},
   "outputs": [
    {
     "name": "stderr",
     "output_type": "stream",
     "text": [
      "/Users/Strawberry/opt/miniconda3/envs/geo_env/lib/python3.9/site-packages/ipykernel/ipkernel.py:283: DeprecationWarning: `should_run_async` will not call `transform_cell` automatically in the future. Please pass the result to `transformed_cell` argument and any exception that happen during thetransform in `preprocessing_exc_tuple` in IPython 7.17 and above.\n",
      "  and should_run_async(code)\n"
     ]
    }
   ],
   "source": [
    "node_id = '10004098'\n",
    "dir_in = '../Minolta/'\n",
    "dir_our = dir_in\n",
    "df = pd.read_csv(dir_in+node_id+'.csv')"
   ]
  },
  {
   "cell_type": "code",
   "execution_count": 229,
   "id": "experienced-peter",
   "metadata": {},
   "outputs": [
    {
     "name": "stderr",
     "output_type": "stream",
     "text": [
      "/Users/Strawberry/opt/miniconda3/envs/geo_env/lib/python3.9/site-packages/ipykernel/ipkernel.py:283: DeprecationWarning: `should_run_async` will not call `transform_cell` automatically in the future. Please pass the result to `transformed_cell` argument and any exception that happen during thetransform in `preprocessing_exc_tuple` in IPython 7.17 and above.\n",
      "  and should_run_async(code)\n"
     ]
    },
    {
     "name": "stdout",
     "output_type": "stream",
     "text": [
      "85.1254608631134\n"
     ]
    }
   ],
   "source": [
    "time_start = time.time()\n",
    "df['UTCtemp'] = df['UTC'].astype(str).apply(lambda x:Time(x, format='iso', scale='utc'))\n",
    "print(time.time() - time_start)"
   ]
  },
  {
   "cell_type": "code",
   "execution_count": null,
   "id": "metallic-belly",
   "metadata": {},
   "outputs": [
    {
     "name": "stderr",
     "output_type": "stream",
     "text": [
      "/Users/Strawberry/opt/miniconda3/envs/geo_env/lib/python3.9/site-packages/ipykernel/ipkernel.py:283: DeprecationWarning: `should_run_async` will not call `transform_cell` automatically in the future. Please pass the result to `transformed_cell` argument and any exception that happen during thetransform in `preprocessing_exc_tuple` in IPython 7.17 and above.\n",
      "  and should_run_async(code)\n"
     ]
    }
   ],
   "source": [
    "time_start = time.time()\n",
    "location = coord.EarthLocation(lon=longitude * u.deg, lat=latitude * u.deg)\n",
    "df['sun'] = df['UTCtemp'].apply(lambda x:\\\n",
    "                                coord.get_sun(x).transform_to(coord.AltAz(location=location,obstime=x))\n",
    "                               )\n",
    "print(time.time() - time_start)"
   ]
  },
  {
   "cell_type": "code",
   "execution_count": null,
   "id": "greenhouse-occasions",
   "metadata": {},
   "outputs": [],
   "source": [
    "time_start = time.time()\n",
    "df['Zenith'].apply(lambda x: x.zen.degree)\n",
    "df['Azimuth'].apply(lambda x: x.az.degree)\n",
    "df['Sun Distance'].apply(lambda x: x.distance.meter)\n",
    "print(time.time() - time_start)"
   ]
  },
  {
   "cell_type": "code",
   "execution_count": null,
   "id": "particular-forest",
   "metadata": {},
   "outputs": [],
   "source": [
    "bins = np.array(range(0,420+1)).astype(str)\n",
    "bins = list(bins)\n",
    "for i in range(len(bins)):\n",
    "    bins[i] = 'Spectrum[' + bins[i] + ']'\n",
    "\n",
    "wavelengths = np.array(range(360,780+1)).astype(str)\n",
    "for i in range(len(wavelengths)):\n",
    "    wavelengths[i] = wavelengths[i] + 'nm'\n",
    "wavelengths = list(wavelengths)"
   ]
  },
  {
   "cell_type": "code",
   "execution_count": null,
   "id": "coordinate-bristol",
   "metadata": {},
   "outputs": [],
   "source": [
    "columns = ['Illuminance'] + wavelengths + ['latitude','longitude','altitude'] + ['Zenith','Azimuth','Sun Distance']\n",
    "df[columns].to_csv(dir_out+node_id+'_sun.csv', index = False)\n"
   ]
  },
  {
   "cell_type": "code",
   "execution_count": null,
   "id": "occupied-bahamas",
   "metadata": {},
   "outputs": [],
   "source": []
  },
  {
   "cell_type": "code",
   "execution_count": 2,
   "id": "about-account",
   "metadata": {},
   "outputs": [
    {
     "name": "stderr",
     "output_type": "stream",
     "text": [
      "/Users/Strawberry/opt/miniconda3/envs/geo_env/lib/python3.9/site-packages/ipykernel/ipkernel.py:283: DeprecationWarning: `should_run_async` will not call `transform_cell` automatically in the future. Please pass the result to `transformed_cell` argument and any exception that happen during thetransform in `preprocessing_exc_tuple` in IPython 7.17 and above.\n",
      "  and should_run_async(code)\n"
     ]
    }
   ],
   "source": [
    "# read data\n",
    "folder = \"spatial\"\n",
    "node_id = \"10004098\"\n",
    "dir_out = \"../figures/\" + folder + \"/\"\n",
    "dir_data = \"../data/\"\n",
    "\n",
    "fn_in = dir_data + \"driving_\" + node_id + \".csv\"\n",
    "df = pd.read_csv(fn_in, index_col = 'UTC')"
   ]
  },
  {
   "cell_type": "code",
   "execution_count": null,
   "id": "sealed-quantity",
   "metadata": {},
   "outputs": [],
   "source": [
    "loc = coord.EarthLocation(lon=0 * u.deg,\n",
    "                          lat=32 * u.deg)\n",
    "now = Time('2021-04-07 12:00:00', format='iso', scale='utc')#Time.now()\n",
    "\n",
    "altaz = coord.AltAz(location=loc, obstime=now)\n",
    "sun = coord.get_sun(now)\n",
    "\n",
    "temp = sun.transform_to(altaz)\n",
    "temp.az.degree, temp.zen.degree, temp.distance.meter"
   ]
  },
  {
   "cell_type": "code",
   "execution_count": 4,
   "id": "clean-newton",
   "metadata": {},
   "outputs": [
    {
     "name": "stderr",
     "output_type": "stream",
     "text": [
      "/Users/Strawberry/opt/miniconda3/envs/geo_env/lib/python3.9/site-packages/ipykernel/ipkernel.py:283: DeprecationWarning: `should_run_async` will not call `transform_cell` automatically in the future. Please pass the result to `transformed_cell` argument and any exception that happen during thetransform in `preprocessing_exc_tuple` in IPython 7.17 and above.\n",
      "  and should_run_async(code)\n"
     ]
    },
    {
     "data": {
      "text/plain": [
       "27618"
      ]
     },
     "execution_count": 4,
     "metadata": {},
     "output_type": "execute_result"
    }
   ],
   "source": []
  },
  {
   "cell_type": "code",
   "execution_count": 7,
   "id": "dramatic-female",
   "metadata": {},
   "outputs": [
    {
     "name": "stderr",
     "output_type": "stream",
     "text": [
      "/Users/Strawberry/opt/miniconda3/envs/geo_env/lib/python3.9/site-packages/ipykernel/ipkernel.py:283: DeprecationWarning: `should_run_async` will not call `transform_cell` automatically in the future. Please pass the result to `transformed_cell` argument and any exception that happen during thetransform in `preprocessing_exc_tuple` in IPython 7.17 and above.\n",
      "  and should_run_async(code)\n"
     ]
    },
    {
     "data": {
      "text/html": [
       "<div>\n",
       "<style scoped>\n",
       "    .dataframe tbody tr th:only-of-type {\n",
       "        vertical-align: middle;\n",
       "    }\n",
       "\n",
       "    .dataframe tbody tr th {\n",
       "        vertical-align: top;\n",
       "    }\n",
       "\n",
       "    .dataframe thead th {\n",
       "        text-align: right;\n",
       "    }\n",
       "</style>\n",
       "<table border=\"1\" class=\"dataframe\">\n",
       "  <thead>\n",
       "    <tr style=\"text-align: right;\">\n",
       "      <th></th>\n",
       "      <th>Illuminance</th>\n",
       "      <th>360nm</th>\n",
       "      <th>361nm</th>\n",
       "      <th>362nm</th>\n",
       "      <th>363nm</th>\n",
       "      <th>364nm</th>\n",
       "      <th>365nm</th>\n",
       "      <th>366nm</th>\n",
       "      <th>367nm</th>\n",
       "      <th>368nm</th>\n",
       "      <th>...</th>\n",
       "      <th>775nm</th>\n",
       "      <th>776nm</th>\n",
       "      <th>777nm</th>\n",
       "      <th>778nm</th>\n",
       "      <th>779nm</th>\n",
       "      <th>780nm</th>\n",
       "      <th>Zenith</th>\n",
       "      <th>latitude</th>\n",
       "      <th>longitude</th>\n",
       "      <th>altitude</th>\n",
       "    </tr>\n",
       "    <tr>\n",
       "      <th>UTC</th>\n",
       "      <th></th>\n",
       "      <th></th>\n",
       "      <th></th>\n",
       "      <th></th>\n",
       "      <th></th>\n",
       "      <th></th>\n",
       "      <th></th>\n",
       "      <th></th>\n",
       "      <th></th>\n",
       "      <th></th>\n",
       "      <th></th>\n",
       "      <th></th>\n",
       "      <th></th>\n",
       "      <th></th>\n",
       "      <th></th>\n",
       "      <th></th>\n",
       "      <th></th>\n",
       "      <th></th>\n",
       "      <th></th>\n",
       "      <th></th>\n",
       "      <th></th>\n",
       "    </tr>\n",
       "  </thead>\n",
       "  <tbody>\n",
       "    <tr>\n",
       "      <th>2020-01-08 16:43:40</th>\n",
       "      <td>3849.500854</td>\n",
       "      <td>0.042302</td>\n",
       "      <td>0.042491</td>\n",
       "      <td>0.043221</td>\n",
       "      <td>0.044318</td>\n",
       "      <td>0.045591</td>\n",
       "      <td>0.046490</td>\n",
       "      <td>0.047298</td>\n",
       "      <td>0.047995</td>\n",
       "      <td>0.048536</td>\n",
       "      <td>...</td>\n",
       "      <td>0.034481</td>\n",
       "      <td>0.034510</td>\n",
       "      <td>0.034657</td>\n",
       "      <td>0.034848</td>\n",
       "      <td>0.034993</td>\n",
       "      <td>0.035070</td>\n",
       "      <td>61.113035</td>\n",
       "      <td>32.992275</td>\n",
       "      <td>96.757422</td>\n",
       "      <td>226.80</td>\n",
       "    </tr>\n",
       "    <tr>\n",
       "      <th>2020-01-08 16:43:50</th>\n",
       "      <td>2345.220551</td>\n",
       "      <td>0.032529</td>\n",
       "      <td>0.032651</td>\n",
       "      <td>0.033183</td>\n",
       "      <td>0.033997</td>\n",
       "      <td>0.034946</td>\n",
       "      <td>0.035627</td>\n",
       "      <td>0.036239</td>\n",
       "      <td>0.036761</td>\n",
       "      <td>0.037158</td>\n",
       "      <td>...</td>\n",
       "      <td>0.029435</td>\n",
       "      <td>0.029525</td>\n",
       "      <td>0.029645</td>\n",
       "      <td>0.029761</td>\n",
       "      <td>0.029830</td>\n",
       "      <td>0.029849</td>\n",
       "      <td>61.096021</td>\n",
       "      <td>32.992279</td>\n",
       "      <td>96.756782</td>\n",
       "      <td>226.74</td>\n",
       "    </tr>\n",
       "    <tr>\n",
       "      <th>2020-01-08 16:44:00</th>\n",
       "      <td>2385.540894</td>\n",
       "      <td>0.033112</td>\n",
       "      <td>0.033226</td>\n",
       "      <td>0.033758</td>\n",
       "      <td>0.034580</td>\n",
       "      <td>0.035541</td>\n",
       "      <td>0.036231</td>\n",
       "      <td>0.036851</td>\n",
       "      <td>0.037380</td>\n",
       "      <td>0.037782</td>\n",
       "      <td>...</td>\n",
       "      <td>0.036020</td>\n",
       "      <td>0.036155</td>\n",
       "      <td>0.036332</td>\n",
       "      <td>0.036510</td>\n",
       "      <td>0.036637</td>\n",
       "      <td>0.036706</td>\n",
       "      <td>61.079027</td>\n",
       "      <td>32.991883</td>\n",
       "      <td>96.756719</td>\n",
       "      <td>232.32</td>\n",
       "    </tr>\n",
       "    <tr>\n",
       "      <th>2020-01-08 16:44:10</th>\n",
       "      <td>2566.076355</td>\n",
       "      <td>0.033985</td>\n",
       "      <td>0.034098</td>\n",
       "      <td>0.034641</td>\n",
       "      <td>0.035480</td>\n",
       "      <td>0.036463</td>\n",
       "      <td>0.037165</td>\n",
       "      <td>0.037798</td>\n",
       "      <td>0.038343</td>\n",
       "      <td>0.038761</td>\n",
       "      <td>...</td>\n",
       "      <td>0.040529</td>\n",
       "      <td>0.040701</td>\n",
       "      <td>0.040914</td>\n",
       "      <td>0.041126</td>\n",
       "      <td>0.041279</td>\n",
       "      <td>0.041369</td>\n",
       "      <td>61.062055</td>\n",
       "      <td>32.991692</td>\n",
       "      <td>96.757119</td>\n",
       "      <td>226.90</td>\n",
       "    </tr>\n",
       "    <tr>\n",
       "      <th>2020-01-08 16:44:20</th>\n",
       "      <td>2944.573364</td>\n",
       "      <td>0.040020</td>\n",
       "      <td>0.040161</td>\n",
       "      <td>0.040814</td>\n",
       "      <td>0.041823</td>\n",
       "      <td>0.043005</td>\n",
       "      <td>0.043871</td>\n",
       "      <td>0.044654</td>\n",
       "      <td>0.045327</td>\n",
       "      <td>0.045841</td>\n",
       "      <td>...</td>\n",
       "      <td>0.039787</td>\n",
       "      <td>0.039932</td>\n",
       "      <td>0.040158</td>\n",
       "      <td>0.040408</td>\n",
       "      <td>0.040604</td>\n",
       "      <td>0.040733</td>\n",
       "      <td>61.045103</td>\n",
       "      <td>32.991671</td>\n",
       "      <td>96.757908</td>\n",
       "      <td>231.32</td>\n",
       "    </tr>\n",
       "  </tbody>\n",
       "</table>\n",
       "<p>5 rows × 426 columns</p>\n",
       "</div>"
      ],
      "text/plain": [
       "                     Illuminance     360nm     361nm     362nm     363nm  \\\n",
       "UTC                                                                        \n",
       "2020-01-08 16:43:40  3849.500854  0.042302  0.042491  0.043221  0.044318   \n",
       "2020-01-08 16:43:50  2345.220551  0.032529  0.032651  0.033183  0.033997   \n",
       "2020-01-08 16:44:00  2385.540894  0.033112  0.033226  0.033758  0.034580   \n",
       "2020-01-08 16:44:10  2566.076355  0.033985  0.034098  0.034641  0.035480   \n",
       "2020-01-08 16:44:20  2944.573364  0.040020  0.040161  0.040814  0.041823   \n",
       "\n",
       "                        364nm     365nm     366nm     367nm     368nm  ...  \\\n",
       "UTC                                                                    ...   \n",
       "2020-01-08 16:43:40  0.045591  0.046490  0.047298  0.047995  0.048536  ...   \n",
       "2020-01-08 16:43:50  0.034946  0.035627  0.036239  0.036761  0.037158  ...   \n",
       "2020-01-08 16:44:00  0.035541  0.036231  0.036851  0.037380  0.037782  ...   \n",
       "2020-01-08 16:44:10  0.036463  0.037165  0.037798  0.038343  0.038761  ...   \n",
       "2020-01-08 16:44:20  0.043005  0.043871  0.044654  0.045327  0.045841  ...   \n",
       "\n",
       "                        775nm     776nm     777nm     778nm     779nm  \\\n",
       "UTC                                                                     \n",
       "2020-01-08 16:43:40  0.034481  0.034510  0.034657  0.034848  0.034993   \n",
       "2020-01-08 16:43:50  0.029435  0.029525  0.029645  0.029761  0.029830   \n",
       "2020-01-08 16:44:00  0.036020  0.036155  0.036332  0.036510  0.036637   \n",
       "2020-01-08 16:44:10  0.040529  0.040701  0.040914  0.041126  0.041279   \n",
       "2020-01-08 16:44:20  0.039787  0.039932  0.040158  0.040408  0.040604   \n",
       "\n",
       "                        780nm     Zenith   latitude  longitude  altitude  \n",
       "UTC                                                                       \n",
       "2020-01-08 16:43:40  0.035070  61.113035  32.992275  96.757422    226.80  \n",
       "2020-01-08 16:43:50  0.029849  61.096021  32.992279  96.756782    226.74  \n",
       "2020-01-08 16:44:00  0.036706  61.079027  32.991883  96.756719    232.32  \n",
       "2020-01-08 16:44:10  0.041369  61.062055  32.991692  96.757119    226.90  \n",
       "2020-01-08 16:44:20  0.040733  61.045103  32.991671  96.757908    231.32  \n",
       "\n",
       "[5 rows x 426 columns]"
      ]
     },
     "execution_count": 7,
     "metadata": {},
     "output_type": "execute_result"
    }
   ],
   "source": [
    "\n",
    "df.head()"
   ]
  },
  {
   "cell_type": "code",
   "execution_count": null,
   "id": "chubby-alignment",
   "metadata": {},
   "outputs": [],
   "source": []
  }
 ],
 "metadata": {
  "kernelspec": {
   "display_name": "Python 3",
   "language": "python",
   "name": "python3"
  },
  "language_info": {
   "codemirror_mode": {
    "name": "ipython",
    "version": 3
   },
   "file_extension": ".py",
   "mimetype": "text/x-python",
   "name": "python",
   "nbconvert_exporter": "python",
   "pygments_lexer": "ipython3",
   "version": "3.9.2"
  }
 },
 "nbformat": 4,
 "nbformat_minor": 5
}
