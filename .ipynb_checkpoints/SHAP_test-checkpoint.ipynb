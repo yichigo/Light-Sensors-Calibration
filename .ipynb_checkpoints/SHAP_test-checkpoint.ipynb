{
 "cells": [
  {
   "cell_type": "code",
   "execution_count": null,
   "id": "operational-dictionary",
   "metadata": {},
   "outputs": [],
   "source": [
    "import pandas as pd\n",
    "import numpy as np\n",
    "import os\n",
    "import sys\n",
    "import datetime\n",
    "import time\n",
    "\n",
    "#from netCDF4 import Dataset, num2date\n",
    "import matplotlib.pyplot as plt\n",
    "from sklearn.ensemble import RandomForestRegressor,AdaBoostRegressor,GradientBoostingRegressor\n",
    "from sklearn.neural_network import MLPRegressor\n",
    "from sklearn.model_selection import GridSearchCV, train_test_split\n",
    "from sklearn.preprocessing import MinMaxScaler, StandardScaler, RobustScaler, MaxAbsScaler,Normalizer\n",
    "from sklearn.cluster import KMeans\n",
    "from sklearn.mixture import GaussianMixture\n",
    "from sklearn.metrics import adjusted_rand_score, r2_score\n",
    "from sklearn.feature_selection import mutual_info_regression\n",
    "\n",
    "import matplotlib.dates as mdates\n",
    "import matplotlib.colors\n",
    "import matplotlib.ticker as ticker\n",
    "\n",
    "from pysolar.solar import *\n",
    "import pytz\n",
    "import shap\n",
    "import pickle\n",
    "import multiprocessing\n",
    "\n",
    "from sklearn.decomposition import PCA, FastICA\n",
    "from sklearn.random_projection import GaussianRandomProjection\n",
    "\n",
    "RANDOM_STATE = 42\n",
    "n_jobs = multiprocessing.cpu_count()"
   ]
  },
  {
   "cell_type": "code",
   "execution_count": null,
   "id": "terminal-smell",
   "metadata": {},
   "outputs": [],
   "source": [
    "def model_predict1(X_model):\n",
    "    return X_model[:,0,None] + 2*X_model[:,1,None]\n",
    "\n",
    "def model_predict2(X_model):\n",
    "    return (X_model+100)**1.1\n",
    "\n",
    "def model_predict12(X_model):\n",
    "    return model_predict2(model_predict1(X_model))\n",
    "\n",
    "y_temp1 = model_predict1(X_temp)\n",
    "y_temp2 = model_predict2(y_temp1)\n",
    "y_temp12 = model_predict12(X_temp)"
   ]
  },
  {
   "cell_type": "code",
   "execution_count": null,
   "id": "leading-spoke",
   "metadata": {},
   "outputs": [],
   "source": [
    "num_shap = 200\n",
    "explainer = shap.KernelExplainer(model_predict1, X_temp[:num_shap])\n",
    "# Calculate shap_values\n",
    "shap_values1 = explainer.shap_values(X_temp[:num_shap])[0]\n",
    "\n",
    "# plot\n",
    "max_display = num_features\n",
    "# shap_values = pca.inverse_transform(shap_values_DR)\n",
    "shap.summary_plot(shap_values1, X_temp[:num_shap],\n",
    "                  plot_size=(8,max_display/3.5),#'auto'\n",
    "                  max_display = max_display,\n",
    "                  show=False\n",
    "                 )\n",
    "plt.tight_layout()"
   ]
  },
  {
   "cell_type": "code",
   "execution_count": null,
   "id": "incomplete-rhythm",
   "metadata": {},
   "outputs": [],
   "source": [
    "num_shap = 200\n",
    "explainer = shap.KernelExplainer(model_predict2, y_temp1[:num_shap])\n",
    "# Calculate shap_values\n",
    "shap_values2 = explainer.shap_values(y_temp1[:num_shap])[0]\n",
    "\n",
    "# plot\n",
    "max_display = num_features\n",
    "# shap_values = pca.inverse_transform(shap_values_DR)\n",
    "shap.summary_plot(shap_values2, y_temp1[:num_shap],\n",
    "                  plot_size=(8,max_display/3.5),#'auto'\n",
    "                  max_display = max_display,\n",
    "                  show=False\n",
    "                 )\n",
    "plt.tight_layout()"
   ]
  },
  {
   "cell_type": "code",
   "execution_count": null,
   "id": "rational-october",
   "metadata": {},
   "outputs": [],
   "source": [
    "num_shap = 200\n",
    "explainer = shap.KernelExplainer(model_predict12, X_temp[:num_shap])\n",
    "# Calculate shap_values\n",
    "shap_values12 = explainer.shap_values(X_temp[:num_shap])[0]\n",
    "\n",
    "# plot\n",
    "max_display = num_features\n",
    "# shap_values = pca.inverse_transform(shap_values_DR)\n",
    "shap.summary_plot(shap_values12, X_temp[:num_shap],\n",
    "                  plot_size=(8,max_display/3.5),#'auto'\n",
    "                  max_display = max_display,\n",
    "                  show=False\n",
    "                 )\n",
    "plt.tight_layout()"
   ]
  },
  {
   "cell_type": "code",
   "execution_count": null,
   "id": "focal-stand",
   "metadata": {},
   "outputs": [],
   "source": [
    "X_temp[20]"
   ]
  },
  {
   "cell_type": "code",
   "execution_count": null,
   "id": "satellite-delaware",
   "metadata": {},
   "outputs": [],
   "source": [
    "# func1 = x0 + 2* x1\n",
    "(X_temp[20] - X_temp[:num_shap].mean(axis = 0)) * np.array([1,2]), shap_values1[20]"
   ]
  },
  {
   "cell_type": "code",
   "execution_count": null,
   "id": "vanilla-applicant",
   "metadata": {},
   "outputs": [],
   "source": [
    "# func2 = (x0+100)**1.1\n",
    "(y_temp1[20]+100)**1.1 - ((y_temp1[:num_shap]+100)**1.1).mean(axis = 0), shap_values2[20]"
   ]
  },
  {
   "cell_type": "code",
   "execution_count": null,
   "id": "immediate-yield",
   "metadata": {},
   "outputs": [],
   "source": [
    "(shap_values1[20]/shap_values1[20].sum())"
   ]
  },
  {
   "cell_type": "code",
   "execution_count": null,
   "id": "bibliographic-convert",
   "metadata": {},
   "outputs": [],
   "source": [
    "# func12 = (x0 + 2* x1)**3\n",
    "(shap_values1[20]/ (shap_values1[20]).sum() )*shap_values2[20], shap_values12[20]"
   ]
  },
  {
   "cell_type": "code",
   "execution_count": null,
   "id": "israeli-rescue",
   "metadata": {},
   "outputs": [],
   "source": [
    "num_shap = 500\n",
    "explainer = shap.KernelExplainer(model_predict, X_temp[:num_shap])\n",
    "# Calculate shap_values\n",
    "shap_values = explainer.shap_values(X_temp[:num_shap])"
   ]
  },
  {
   "cell_type": "code",
   "execution_count": null,
   "id": "armed-north",
   "metadata": {},
   "outputs": [],
   "source": [
    "# plot\n",
    "max_display = num_features\n",
    "# shap_values = pca.inverse_transform(shap_values_DR)\n",
    "shap.summary_plot(shap_values, X_temp[:num_shap],\n",
    "                  plot_size=(8,max_display/3.5),#'auto'\n",
    "                  max_display = max_display,\n",
    "                  show=False\n",
    "                 )\n",
    "plt.tight_layout()"
   ]
  },
  {
   "cell_type": "code",
   "execution_count": null,
   "id": "independent-support",
   "metadata": {},
   "outputs": [],
   "source": [
    "y_temp[20] - y_temp[:num_shap].mean(axis = 0)"
   ]
  },
  {
   "cell_type": "code",
   "execution_count": null,
   "id": "marked-identity",
   "metadata": {},
   "outputs": [],
   "source": [
    "X_temp[20] - X_temp[:num_shap].mean(axis = 0), shap_values[20]"
   ]
  },
  {
   "cell_type": "code",
   "execution_count": null,
   "id": "simplified-cylinder",
   "metadata": {},
   "outputs": [],
   "source": []
  },
  {
   "cell_type": "code",
   "execution_count": null,
   "id": "suffering-mouse",
   "metadata": {},
   "outputs": [],
   "source": []
  },
  {
   "cell_type": "code",
   "execution_count": null,
   "id": "increased-trance",
   "metadata": {},
   "outputs": [],
   "source": []
  }
 ],
 "metadata": {
  "kernelspec": {
   "display_name": "Python 3",
   "language": "python",
   "name": "python3"
  },
  "language_info": {
   "codemirror_mode": {
    "name": "ipython",
    "version": 3
   },
   "file_extension": ".py",
   "mimetype": "text/x-python",
   "name": "python",
   "nbconvert_exporter": "python",
   "pygments_lexer": "ipython3",
   "version": "3.8.8"
  }
 },
 "nbformat": 4,
 "nbformat_minor": 5
}
