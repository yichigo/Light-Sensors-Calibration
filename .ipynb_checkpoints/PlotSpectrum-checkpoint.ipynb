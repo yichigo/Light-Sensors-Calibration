{
 "cells": [
  {
   "cell_type": "code",
   "execution_count": 2,
   "id": "helpful-budapest",
   "metadata": {},
   "outputs": [],
   "source": [
    "import pandas as pd\n",
    "import numpy as np\n",
    "import os\n",
    "import sys\n",
    "import datetime\n",
    "import time\n",
    "import math\n",
    "import netCDF4 as nc\n",
    "\n",
    "#from netCDF4 import Dataset, num2date\n",
    "import matplotlib.pyplot as plt\n",
    "\n",
    "import matplotlib.dates as mdates\n",
    "import matplotlib.colors\n",
    "import matplotlib.ticker as ticker\n",
    "\n",
    "\n",
    "RANDOM_STATE = 42\n",
    "#  32.5,  33.5\n",
    "# -97.5, -96.5"
   ]
  },
  {
   "cell_type": "code",
   "execution_count": 3,
   "id": "latter-holmes",
   "metadata": {},
   "outputs": [],
   "source": [
    "folder = \"spatial\"\n",
    "node_id = \"10004098\"\n",
    "dir_out = \"../figures/\" + folder + \"/\"\n",
    "dir_data = \"../data/\"\n",
    "\n",
    "fn_in = dir_data + \"driving_\" + node_id + \".csv\"\n"
   ]
  },
  {
   "cell_type": "code",
   "execution_count": 4,
   "id": "spare-panic",
   "metadata": {},
   "outputs": [],
   "source": [
    "df = pd.read_csv(fn_in, index_col = 'UTC')"
   ]
  },
  {
   "cell_type": "code",
   "execution_count": 4,
   "id": "supposed-scottish",
   "metadata": {},
   "outputs": [],
   "source": [
    "target = 'Illuminance'"
   ]
  },
  {
   "cell_type": "code",
   "execution_count": null,
   "id": "ordinary-williams",
   "metadata": {},
   "outputs": [],
   "source": []
  }
 ],
 "metadata": {
  "kernelspec": {
   "display_name": "Python 3",
   "language": "python",
   "name": "python3"
  },
  "language_info": {
   "codemirror_mode": {
    "name": "ipython",
    "version": 3
   },
   "file_extension": ".py",
   "mimetype": "text/x-python",
   "name": "python",
   "nbconvert_exporter": "python",
   "pygments_lexer": "ipython3",
   "version": "3.9.2"
  }
 },
 "nbformat": 4,
 "nbformat_minor": 5
}
